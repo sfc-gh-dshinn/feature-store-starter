{
 "metadata": {
  "kernelspec": {
   "display_name": "Python 3 (ipykernel)",
   "language": "python",
   "name": "python3"
  },
  "language_info": {
   "codemirror_mode": {
    "name": "ipython",
    "version": 3
   },
   "file_extension": ".py",
   "mimetype": "text/x-python",
   "name": "python",
   "nbconvert_exporter": "python",
   "pygments_lexer": "ipython3",
   "version": "3.8.19"
  },
  "lastEditStatus": {
   "notebookId": "2snei3gx2q2r72lwa6zm",
   "authorId": "2474798485967",
   "authorName": "DSHINN",
   "authorEmail": "david.shinn@snowflake.com",
   "sessionId": "ab66ddb0-a45b-4fe2-a8f3-83d27e879f26",
   "lastEditTime": 1753647424202
  }
 },
 "nbformat_minor": 5,
 "nbformat": 4,
 "cells": [
  {
   "cell_type": "markdown",
   "id": "b0251db7-0710-40a9-bc2d-d9c9149b700c",
   "metadata": {
    "collapsed": false,
    "name": "overview_md",
    "resultHeight": 259
   },
   "source": "# Snowflake Model Registry\n\nAdapted from https://quickstarts.snowflake.com/guide/intro-to-feature-store/index.html#2\n\nUses the dataset generated from the feature store notebook, builds a predictive model and registers\nthe mode in Model Registry"
  },
  {
   "cell_type": "markdown",
   "id": "5aadd558-5448-47fd-ae66-ab24a59af4d5",
   "metadata": {
    "collapsed": false,
    "name": "session_md",
    "resultHeight": 102
   },
   "source": [
    "## Prepare Snowpark Session\n",
    "\n",
    "Create a session and set metadata"
   ]
  },
  {
   "cell_type": "code",
   "execution_count": null,
   "id": "c950d9e7-8da7-40a1-926f-ea47ffc02bd0",
   "metadata": {
    "codeCollapsed": false,
    "collapsed": false,
    "language": "python",
    "name": "create_session",
    "resultHeight": 44
   },
   "outputs": [],
   "source": "import pandas as pd\n\nfrom snowflake.ml import dataset\nfrom snowflake.ml.feature_store.examples.example_helper import ExampleHelper\nfrom snowflake.snowpark.context import get_active_session\nfrom snowflake.ml.registry import Registry\nfrom snowflake.ml.model import task, type_hints\n\nfrom sklearn.ensemble import RandomForestClassifier\nfrom sklearn.metrics import roc_auc_score\nfrom sklearn.pipeline import Pipeline\nfrom sklearn.compose import ColumnTransformer\nfrom sklearn.preprocessing import OrdinalEncoder, StandardScaler\nimport sklearn\n\nsession = get_active_session()\n\n\n# Add a query tag to the session. This helps with debugging and performance monitoring.\nsession.query_tag = {\"origin\":\"sf_sit-is\", \"name\":\"aiml_notebooks_fs_overview\", \"version\":{\"major\":1, \"minor\":0}, \"attributes\":{\"is_quickstart\":0, \"source\":\"notebook\"}}\n\n# Set session context \nsession.use_role(\"FEATURE_STORE_LAB_USER\") \n\n# Print the current role, warehouse, and database/schema\nprint(f\"role: {session.get_current_role()} | WH: {session.get_current_warehouse()} | DB.SCHEMA: {session.get_fully_qualified_current_schema()}\")"
  },
  {
   "cell_type": "code",
   "id": "b81134fd-6064-4d68-aab1-384922a5235c",
   "metadata": {
    "language": "sql",
    "name": "cell2",
    "codeCollapsed": false
   },
   "outputs": [],
   "source": "USE DATABASE FEATURE_STORE_DATABASE;\nUSE SCHEMA LIVE_DEMO_SCHEMA;",
   "execution_count": null
  },
  {
   "cell_type": "code",
   "id": "3897df43-cd13-4f5c-ae95-c34e2888003a",
   "metadata": {
    "language": "python",
    "name": "cell3",
    "codeCollapsed": false
   },
   "outputs": [],
   "source": "# Print the current role, warehouse, and database/schema\nprint(f\"role: {session.get_current_role()} | WH: {session.get_current_warehouse()} | DB.SCHEMA: {session.get_fully_qualified_current_schema()}\")",
   "execution_count": null
  },
  {
   "cell_type": "markdown",
   "id": "d5b9bb8c-b174-4a04-8c0e-e59d79545978",
   "metadata": {
    "collapsed": false,
    "name": "data_preview_md",
    "resultHeight": 127
   },
   "source": "## Retrieve the generated dataset"
  },
  {
   "cell_type": "code",
   "id": "0f1e528e-64dd-498f-9cbf-102aa5365ba1",
   "metadata": {
    "language": "python",
    "name": "cell4"
   },
   "outputs": [],
   "source": "df_listed_datasets = session.sql(\"SHOW DATASETS\").to_pandas()\ndf_listed_datasets['last_version'] = df_listed_datasets['\"versions\"'].apply(lambda x: eval(x)[-1])\ndf_listed_datasets",
   "execution_count": null
  },
  {
   "cell_type": "code",
   "id": "f2b3c8ec-90f4-4109-8ed3-581ba4e31eed",
   "metadata": {
    "language": "python",
    "name": "cell5",
    "codeCollapsed": false
   },
   "outputs": [],
   "source": "df_listed_datasets[['\"name\"', '\"database_name\"', '\"schema_name\"', 'last_version']]",
   "execution_count": null
  },
  {
   "cell_type": "code",
   "id": "9d983256-8a3a-4878-b24a-1ffac76fdb1d",
   "metadata": {
    "language": "python",
    "name": "cell7"
   },
   "outputs": [],
   "source": "ds = dataset.load_dataset(session, \"TRIP_DURATION_DS\", \"V_001\")\ndf_ds = ds.read.to_pandas()\ndf_ds.info()",
   "execution_count": null
  },
  {
   "cell_type": "code",
   "id": "b26e16bd-ed7d-41cc-ab48-1f93ff9fde4e",
   "metadata": {
    "language": "python",
    "name": "cell8",
    "codeCollapsed": false
   },
   "outputs": [],
   "source": "df_target = session.sql(\"select airport_zip_code, tail_number, scheduled_departure_utc, departing_delay from us_flight_schedules\").to_pandas()\ndf_target.SCHEDULED_DEPARTURE_UTC = df_target.SCHEDULED_DEPARTURE_UTC.dt.tz_localize('UTC')  # needed for merge\ndf_target.info()",
   "execution_count": null
  },
  {
   "cell_type": "code",
   "id": "1ac5a3df-4961-4b13-8631-8cee7d258b21",
   "metadata": {
    "language": "python",
    "name": "cell9",
    "codeCollapsed": false
   },
   "outputs": [],
   "source": "df_ds = df_ds.merge(df_target, how='inner', on=['AIRPORT_ZIP_CODE', 'TAIL_NUMBER', 'SCHEDULED_DEPARTURE_UTC']) \\\n        .sort_values(by='SCHEDULED_DEPARTURE_UTC')  # Sorting critical to get train before valid\ndf_ds.info()",
   "execution_count": null
  },
  {
   "cell_type": "markdown",
   "id": "6a171c2f-7968-4233-b21c-b099a22efd85",
   "metadata": {
    "name": "cell21"
   },
   "source": "## Build the model"
  },
  {
   "cell_type": "code",
   "id": "747df816-81ff-4e4c-8e24-50385640de5f",
   "metadata": {
    "language": "python",
    "name": "cell11",
    "codeCollapsed": false
   },
   "outputs": [],
   "source": "split_pos = int(len(df_ds) * 0.80)  # Train is 80% of earliest flights\ndf_train = df_ds.iloc[:split_pos]\ndf_valid = df_ds.iloc[split_pos:]",
   "execution_count": null
  },
  {
   "cell_type": "code",
   "id": "10e85eb8-5fcc-41a5-b0c4-8cacd7ab1e73",
   "metadata": {
    "language": "python",
    "name": "cell12"
   },
   "outputs": [],
   "source": "features_numeric = ['TICKETS_SOLD', 'SEATING_CAPACITY', 'MAX_RANGE_KM', 'RAIN_SUM_30M', 'RAIN_SUM_60M']\nfeatures_categorical = ['PLANE_MODEL', 'AIRPORT_ZIP_CODE']\nfeatures_inference = features_numeric + features_categorical",
   "execution_count": null
  },
  {
   "cell_type": "code",
   "id": "4cacfba5-be6b-4317-8821-d95157355573",
   "metadata": {
    "language": "python",
    "name": "cell13",
    "codeCollapsed": false
   },
   "outputs": [],
   "source": "numeric_transformer = Pipeline(steps=[\n    ('scaler', StandardScaler())\n])\n\ncategorical_transformer = Pipeline(steps=[\n    ('ordinal', OrdinalEncoder()),\n])\n\npreprocessor = ColumnTransformer(\n    transformers=[\n        ('num', numeric_transformer, features_numeric),\n        ('cat', categorical_transformer, features_categorical)\n    ]\n)\n\nclf = Pipeline(steps=[\n    ('preprocessor', preprocessor),\n    ('classifier', RandomForestClassifier(random_state=99, n_estimators=100))\n])",
   "execution_count": null
  },
  {
   "cell_type": "code",
   "id": "4c4eebed-b10c-4bba-9048-3b6fd280fbc0",
   "metadata": {
    "language": "python",
    "name": "cell14",
    "codeCollapsed": false
   },
   "outputs": [],
   "source": "clf.fit(df_train[features_inference],  # Important you only pass features needed in the model\n        df_train['DEPARTING_DELAY'])",
   "execution_count": null
  },
  {
   "cell_type": "markdown",
   "id": "f5a02dca-90cf-4912-bbf0-dfc8871df5c1",
   "metadata": {
    "name": "cell15",
    "collapsed": false
   },
   "source": "## Score Valid Predictions"
  },
  {
   "cell_type": "code",
   "id": "09810ec2-d0e3-4109-803d-79bbaa59aa29",
   "metadata": {
    "language": "python",
    "name": "cell16"
   },
   "outputs": [],
   "source": "predictions = clf.predict_proba(df_valid.drop(columns=['DEPARTING_DELAY']))[:, 1]",
   "execution_count": null
  },
  {
   "cell_type": "code",
   "id": "ce60366e-3b54-4ffb-954d-4a04b0f53a7d",
   "metadata": {
    "language": "python",
    "name": "cell17"
   },
   "outputs": [],
   "source": "valid_auc_score = roc_auc_score(df_valid['DEPARTING_DELAY'], predictions)\nvalid_auc_score",
   "execution_count": null
  },
  {
   "cell_type": "markdown",
   "id": "50404bd9-5d81-48f8-bb5b-d35c07c2de42",
   "metadata": {
    "name": "cell18",
    "collapsed": false
   },
   "source": "## Show feature importance"
  },
  {
   "cell_type": "code",
   "id": "6b0b2731-f3c4-4c46-9efa-fca9c93fbb6b",
   "metadata": {
    "language": "python",
    "name": "cell19"
   },
   "outputs": [],
   "source": "# Step 1: Get preprocessor and classifier from pipeline\npreprocessor = clf.named_steps['preprocessor']\nrf_model = clf.named_steps['classifier']\n\n# Step 2: Get feature names after preprocessing\n# For numeric columns (no name change)\nnumeric_features_names = features_numeric\n\n# For categorical columns (get names from onehot)\ncat_encoder = preprocessor.named_transformers_['cat'].named_steps['ordinal']\ncategorical_feature_names = cat_encoder.get_feature_names_out(features_categorical)\n\n# Combine all feature names\nall_feature_names = list(numeric_features_names) + list(categorical_feature_names)\n\n# Step 3: Pair them with importances\nfeature_importances = rf_model.feature_importances_\nimportance_df = pd.DataFrame({\n    'feature': all_feature_names,\n    'importance': feature_importances\n}).sort_values(by='importance', ascending=False)",
   "execution_count": null
  },
  {
   "cell_type": "code",
   "id": "0e1fbd1f-59fb-431f-bd9a-2c8dac713e1e",
   "metadata": {
    "language": "python",
    "name": "cell20"
   },
   "outputs": [],
   "source": "importance_df",
   "execution_count": null
  },
  {
   "cell_type": "markdown",
   "id": "e0fc6ffb-9873-4487-9bfc-1c4cce658024",
   "metadata": {
    "name": "cell22",
    "collapsed": false
   },
   "source": "## Register the model"
  },
  {
   "cell_type": "code",
   "id": "3ea015e7-eb42-4e28-9adc-79a2d5840e5c",
   "metadata": {
    "language": "python",
    "name": "cell23"
   },
   "outputs": [],
   "source": "# Accesses Model Registry\nreg = Registry(session=session,\n               database_name=session.get_current_database(),\n               schema_name=session.get_current_schema())",
   "execution_count": null
  },
  {
   "cell_type": "code",
   "id": "6b8d224b-8440-409a-ab49-dc4db2c6398c",
   "metadata": {
    "language": "python",
    "name": "cell25"
   },
   "outputs": [],
   "source": "clf.feature_names_in_",
   "execution_count": null
  },
  {
   "cell_type": "code",
   "id": "12821039-822f-4df5-bf24-49f4fc99aaef",
   "metadata": {
    "language": "python",
    "name": "cell24",
    "codeCollapsed": false
   },
   "outputs": [],
   "source": "mv = reg.log_model(clf,\n                   model_name=\"DELAY_PREDICTION\",\n                   version_name=\"v2\",\n                   conda_dependencies=[f\"scikit-learn=={sklearn.__version__}\"],\n                   comment=\"My first airline delay model\",\n                   metrics={\"auc_score\": valid_auc_score},\n                   sample_input_data=df_train[features_inference].iloc[:100],  # Only include features required for inference\n                   task=task.Task.TABULAR_BINARY_CLASSIFICATION)",
   "execution_count": null
  },
  {
   "cell_type": "markdown",
   "id": "12789224-77fd-4e39-8ff5-15f5736648c4",
   "metadata": {
    "name": "cell27",
    "collapsed": false
   },
   "source": "## Retrieve the model from model registry and score on dataset directly\n### Shows minimal work between dataset and model inference"
  },
  {
   "cell_type": "code",
   "id": "8b4b1ac3-f662-43cb-bbdf-5ee1c783ef2b",
   "metadata": {
    "language": "python",
    "name": "cell26"
   },
   "outputs": [],
   "source": "model = reg.get_model('DELAY_PREDICTION')\nmodel.versions()",
   "execution_count": null
  },
  {
   "cell_type": "code",
   "id": "470b530c-4850-46d1-a41f-2150b48f1551",
   "metadata": {
    "language": "python",
    "name": "cell28"
   },
   "outputs": [],
   "source": "model_version = model.version('V2')\nmodel_version",
   "execution_count": null
  },
  {
   "cell_type": "code",
   "id": "69c24ea5-94f3-412c-83c0-fe92fa04ee30",
   "metadata": {
    "language": "python",
    "name": "cell29"
   },
   "outputs": [],
   "source": "valid_directly_from_ds = ds.read.to_pandas().sort_values(by='SCHEDULED_DEPARTURE_UTC').iloc[split_pos:]\npredictions_from_mr = model_version.run(valid_directly_from_ds, function_name='predict_proba')['output_feature_1']",
   "execution_count": null
  },
  {
   "cell_type": "code",
   "id": "ec21133e-1b66-40bb-8113-c781db138a93",
   "metadata": {
    "language": "python",
    "name": "cell30",
    "codeCollapsed": false
   },
   "outputs": [],
   "source": "roc_auc_score(df_valid['DEPARTING_DELAY'], predictions_from_mr)",
   "execution_count": null
  },
  {
   "cell_type": "code",
   "id": "a88dfa8b-c689-4603-8c7b-c777d57766ab",
   "metadata": {
    "language": "python",
    "name": "cell1"
   },
   "outputs": [],
   "source": "",
   "execution_count": null
  }
 ]
}