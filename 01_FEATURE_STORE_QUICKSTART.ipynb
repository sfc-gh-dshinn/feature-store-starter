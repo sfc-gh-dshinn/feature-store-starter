{
 "metadata": {
  "kernelspec": {
   "display_name": "Python 3 (ipykernel)",
   "language": "python",
   "name": "python3"
  },
  "language_info": {
   "codemirror_mode": {
    "name": "ipython",
    "version": 3
   },
   "file_extension": ".py",
   "mimetype": "text/x-python",
   "name": "python",
   "nbconvert_exporter": "python",
   "pygments_lexer": "ipython3",
   "version": "3.8.19"
  },
  "lastEditStatus": {
   "notebookId": "ppdleclf62ccdmnnrut7",
   "authorId": "2474798485967",
   "authorName": "DSHINN",
   "authorEmail": "david.shinn@snowflake.com",
   "sessionId": "b967a3c8-cf3b-4427-8501-86a026ae2584",
   "lastEditTime": 1753630281582
  }
 },
 "nbformat_minor": 5,
 "nbformat": 4,
 "cells": [
  {
   "cell_type": "markdown",
   "id": "b0251db7-0710-40a9-bc2d-d9c9149b700c",
   "metadata": {
    "collapsed": false,
    "name": "overview_md",
    "resultHeight": 259
   },
   "source": "# Snowflake Feature Store\n\nFeature engineering, in which raw data is transformed into features that can be used to train machine learning models, is a vital part of building high-quality machine learning applications. A feature store lets you easily create, find, and employ features that work with your data.\n\nThe Snowflake Feature Store is designed to make creating, storing, and managing features for data science and machine learning workloads easier and more efficient. In this notebook, we will go through the steps to create and use Snowflake Feature Store.  \n\nAdapted from https://quickstarts.snowflake.com/guide/intro-to-feature-store/index.html#2"
  },
  {
   "cell_type": "markdown",
   "id": "5aadd558-5448-47fd-ae66-ab24a59af4d5",
   "metadata": {
    "collapsed": false,
    "name": "session_md",
    "resultHeight": 102
   },
   "source": [
    "## Prepare Snowpark Session\n",
    "\n",
    "Create a session and set metadata"
   ]
  },
  {
   "cell_type": "code",
   "execution_count": null,
   "id": "c950d9e7-8da7-40a1-926f-ea47ffc02bd0",
   "metadata": {
    "codeCollapsed": false,
    "collapsed": false,
    "language": "python",
    "name": "create_session",
    "resultHeight": 44
   },
   "outputs": [],
   "source": [
    "from snowflake.ml.feature_store.examples.example_helper import ExampleHelper\n",
    "from snowflake.snowpark.context import get_active_session\n",
    "\n",
    "session = get_active_session()\n",
    "\n",
    "\n",
    "# Add a query tag to the session. This helps with debugging and performance monitoring.\n",
    "session.query_tag = {\"origin\":\"sf_sit-is\", \"name\":\"aiml_notebooks_fs_overview\", \"version\":{\"major\":1, \"minor\":0}, \"attributes\":{\"is_quickstart\":0, \"source\":\"notebook\"}}\n",
    "\n",
    "# Set session context \n",
    "session.use_role(\"FEATURE_STORE_LAB_USER\") \n",
    "\n",
    "# Print the current role, warehouse, and database/schema\n",
    "print(f\"role: {session.get_current_role()} | WH: {session.get_current_warehouse()} | DB.SCHEMA: {session.get_fully_qualified_current_schema()}\")"
   ]
  },
  {
   "cell_type": "code",
   "id": "b81134fd-6064-4d68-aab1-384922a5235c",
   "metadata": {
    "language": "sql",
    "name": "cell2",
    "codeCollapsed": false
   },
   "outputs": [],
   "source": "USE DATABASE FEATURE_STORE_DATABASE;\nUSE SCHEMA LIVE_DEMO_SCHEMA;",
   "execution_count": null
  },
  {
   "cell_type": "code",
   "id": "3897df43-cd13-4f5c-ae95-c34e2888003a",
   "metadata": {
    "language": "python",
    "name": "cell3",
    "codeCollapsed": false
   },
   "outputs": [],
   "source": "# Print the current role, warehouse, and database/schema\nprint(f\"role: {session.get_current_role()} | WH: {session.get_current_warehouse()} | DB.SCHEMA: {session.get_fully_qualified_current_schema()}\")",
   "execution_count": null
  },
  {
   "cell_type": "markdown",
   "id": "d5b9bb8c-b174-4a04-8c0e-e59d79545978",
   "metadata": {
    "collapsed": false,
    "name": "data_preview_md",
    "resultHeight": 127
   },
   "source": [
    "## Prepare sample data\n",
    "\n",
    "For this exercise, we will use the airline features data pulled from Snowflake-ml-python. See the [documentation]() for more information on the data."
   ]
  },
  {
   "cell_type": "code",
   "execution_count": null,
   "id": "31fc4db5-2d02-4c4c-9a6f-f2316c4f919a",
   "metadata": {
    "collapsed": false,
    "language": "python",
    "name": "load_data",
    "resultHeight": 161
   },
   "outputs": [],
   "source": "# If you loaded the tables directly, you can skip this step\nexample_helper = ExampleHelper(session, \n                               session.get_current_database(), \n                               session.get_current_schema())\nsource_tables = example_helper.load_example('airline_features')\nsource_tables"
  },
  {
   "cell_type": "code",
   "execution_count": null,
   "id": "e8f3f65f-38e6-47c8-b997-aa9c41ee32df",
   "metadata": {
    "collapsed": false,
    "language": "python",
    "name": "data_preview",
    "resultHeight": 252,
    "codeCollapsed": false
   },
   "outputs": [],
   "source": [
    "us_flight_schedules = session.table(\"US_FLIGHT_SCHEDULES\")\n",
    "airport_weather_station = session.table(\"AIRPORT_WEATHER_STATION\")\n",
    "\n",
    "# Show a preview of the data using snowpark.DataFrame.to_pandas()\n",
    "us_flight_schedules.limit(5).to_pandas()"
   ]
  },
  {
   "cell_type": "code",
   "id": "d51de20a-51d9-44db-93b0-951fbdfd9375",
   "metadata": {
    "language": "python",
    "name": "cell1",
    "codeCollapsed": false
   },
   "outputs": [],
   "source": "session.table(\"airport_weather_station\").show()",
   "execution_count": null
  },
  {
   "cell_type": "markdown",
   "id": "d359d184-ae6d-486e-a65a-a8187224ad47",
   "metadata": {
    "collapsed": false,
    "name": "create_fs_md",
    "resultHeight": 167
   },
   "source": [
    "Create a new Feature Store\n",
    "=========================================\n",
    "\n",
    "Create a new Feature Store from in our database and schema. Note that we also configure a\n",
    "``default_warehouse`` to be used with the Feature Store. The choice of warehouse is not important at\n",
    "this time so long as a valid warehouse is provided."
   ]
  },
  {
   "cell_type": "code",
   "execution_count": null,
   "id": "0cd0cb4b-99f1-4e4a-9bc1-08b13824b37c",
   "metadata": {
    "collapsed": false,
    "language": "python",
    "name": "create_fs",
    "resultHeight": 0
   },
   "outputs": [],
   "source": "from snowflake.ml.feature_store import FeatureStore, CreationMode, Entity, FeatureView\n\nfs = FeatureStore(\n    session=session,\n    database=\"FEATURE_STORE_DATABASE\",\n    name=\"LIVE_DEMO_SCHEMA\",\n    default_warehouse=\"FEATURE_STORE_WH\",\n    creation_mode=CreationMode.CREATE_IF_NOT_EXIST,\n)"
  },
  {
   "cell_type": "markdown",
   "id": "9aa83340-7c0a-4001-9d3c-7214222c3b27",
   "metadata": {
    "collapsed": false,
    "name": "entities_md",
    "resultHeight": 153
   },
   "source": [
    "## Creating Entities\n",
    "\n",
    "An *entity* is an abstraction over a set of primary keys used for looking up feature data. An Entity represents a real-world \"thing\" that has data associated with it. The cell below registers two entities -- one for airports and the other airplanes."
   ]
  },
  {
   "cell_type": "code",
   "execution_count": 5,
   "id": "84a2ab90-efe5-4c2f-85a7-21cf61620e3a",
   "metadata": {
    "codeCollapsed": false,
    "collapsed": false,
    "language": "python",
    "name": "entities",
    "resultHeight": 434
   },
   "outputs": [
    {
     "name": "stdout",
     "output_type": "stream",
     "text": [
      "--------------------------------------------------------------------------------------------------------------\n",
      "|\"NAME\"  |\"JOIN_KEYS\"                          |\"DESC\"                                          |\"OWNER\"     |\n",
      "--------------------------------------------------------------------------------------------------------------\n",
      "|ROUTE   |[\"START_STATION_ID,END_STATION_ID\"]  |Starting and ending stations for the bike ride  |REGTEST_RL  |\n",
      "--------------------------------------------------------------------------------------------------------------\n",
      "\n"
     ]
    }
   ],
   "source": [
    "zipcode_entity = Entity(\n",
    "    name=\"AIRPORT_ZIP_CODE\",\n",
    "    join_keys=[\"AIRPORT_ZIP_CODE\"],\n",
    "    desc=\"Zip code of the airport.\",\n",
    ")\n",
    "fs.register_entity(zipcode_entity)\n",
    "\n",
    "plane_entity = Entity(name=\"PLANE_MODEL\", join_keys=[\"PLANE_MODEL\"], desc=\"The model of an airplane.\")\n",
    "fs.register_entity(plane_entity)\n",
    "\n",
    "# Show our newly created entity\n",
    "fs.list_entities().show()"
   ]
  },
  {
   "cell_type": "markdown",
   "id": "32408fc5-af40-41fc-971b-5301807ebaeb",
   "metadata": {
    "collapsed": false,
    "name": "feature_views_md",
    "resultHeight": 272
   },
   "source": [
    "## Creating Feature Views\n",
    "\n",
    "A *feature view* is a group of logically-related features that are refreshed on the same schedule. The\n",
    "`FeatureView` constructor accepts a Snowpark DataFrame that contains the feature generation logic. The provided\n",
    "DataFrame must contain the `join_keys` columns specified in the entities associated with the feature view. In\n",
    "this example we are using time-series data, so we will also specify the timestamp column name. \n",
    "\n",
    "Below cell creates a feature view with 2 features. These 4 features are total rain over the past 30 and 60 minutes, grouped by entity (AIRPORT_ZIP_CODE)."
   ]
  },
  {
   "cell_type": "code",
   "execution_count": 6,
   "id": "16a665c3-4397-4c3a-81cd-a940075fc595",
   "metadata": {
    "codeCollapsed": false,
    "collapsed": false,
    "language": "python",
    "name": "feature_views_1",
    "resultHeight": 182
   },
   "outputs": [
    {
     "name": "stderr",
     "output_type": "stream",
     "text": [
      "DataFrameAnalyticsFunctions.time_series_agg() is experimental since 1.12.0. Do not use it in production. \n",
      "DataFrame.alias() is experimental since 1.5.0. Do not use it in production. \n"
     ]
    },
    {
     "data": {
      "text/html": [
       "<div>\n",
       "<style scoped>\n",
       "    .dataframe tbody tr th:only-of-type {\n",
       "        vertical-align: middle;\n",
       "    }\n",
       "\n",
       "    .dataframe tbody tr th {\n",
       "        vertical-align: top;\n",
       "    }\n",
       "\n",
       "    .dataframe thead th {\n",
       "        text-align: right;\n",
       "    }\n",
       "</style>\n",
       "<table border=\"1\" class=\"dataframe\">\n",
       "  <thead>\n",
       "    <tr style=\"text-align: right;\">\n",
       "      <th></th>\n",
       "      <th>NAME</th>\n",
       "      <th>VERSION</th>\n",
       "      <th>DATABASE_NAME</th>\n",
       "      <th>SCHEMA_NAME</th>\n",
       "      <th>CREATED_ON</th>\n",
       "      <th>OWNER</th>\n",
       "      <th>DESC</th>\n",
       "      <th>ENTITIES</th>\n",
       "      <th>REFRESH_FREQ</th>\n",
       "      <th>REFRESH_MODE</th>\n",
       "      <th>SCHEDULING_STATE</th>\n",
       "      <th>WAREHOUSE</th>\n",
       "    </tr>\n",
       "  </thead>\n",
       "  <tbody>\n",
       "    <tr>\n",
       "      <th>0</th>\n",
       "      <td>TRIP_HISTORY</td>\n",
       "      <td>1</td>\n",
       "      <td>REGTEST_DB</td>\n",
       "      <td>SNOWFLAKE_FEATURE_STORE_NOTEBOOK_QUICK_START</td>\n",
       "      <td>2024-07-22 10:48:05.340</td>\n",
       "      <td>REGTEST_RL</td>\n",
       "      <td></td>\n",
       "      <td>[\\n  \"ROUTE\"\\n]</td>\n",
       "      <td>None</td>\n",
       "      <td>None</td>\n",
       "      <td>None</td>\n",
       "      <td>None</td>\n",
       "    </tr>\n",
       "  </tbody>\n",
       "</table>\n",
       "</div>"
      ],
      "text/plain": [
       "           NAME VERSION DATABASE_NAME  \\\n",
       "0  TRIP_HISTORY       1    REGTEST_DB   \n",
       "\n",
       "                                    SCHEMA_NAME              CREATED_ON  \\\n",
       "0  SNOWFLAKE_FEATURE_STORE_NOTEBOOK_QUICK_START 2024-07-22 10:48:05.340   \n",
       "\n",
       "        OWNER DESC         ENTITIES REFRESH_FREQ REFRESH_MODE  \\\n",
       "0  REGTEST_RL       [\\n  \"ROUTE\"\\n]         None         None   \n",
       "\n",
       "  SCHEDULING_STATE WAREHOUSE  \n",
       "0             None      None  "
      ]
     },
     "execution_count": 6,
     "metadata": {},
     "output_type": "execute_result"
    }
   ],
   "source": [
    "airport_weather = session.sql(\n",
    "    \"\"\"\n",
    "        SELECT\n",
    "        datetime_utc AS ts,\n",
    "        airport_zip_code,\n",
    "        SUM(rain_mm_h) OVER (\n",
    "            PARTITION BY airport_zip_code\n",
    "            ORDER BY datetime_utc\n",
    "            RANGE BETWEEN INTERVAL '30 minutes' PRECEDING AND CURRENT ROW\n",
    "        ) AS rain_sum_30m,\n",
    "        SUM(rain_mm_h) OVER (\n",
    "            PARTITION BY airport_zip_code\n",
    "            ORDER BY datetime_utc\n",
    "            RANGE BETWEEN INTERVAL '60 minutes' PRECEDING AND CURRENT ROW\n",
    "        ) AS rain_sum_60m\n",
    "    FROM airport_weather_station\n",
    "    \"\"\"\n",
    ")\n",
    "\n",
    "airport_weather_fv = FeatureView(\n",
    "    name=\"f_weather\",  # name of feature view\n",
    "    entities=[zipcode_entity],  # entities\n",
    "    feature_df=airport_weather,  # definition query\n",
    "    timestamp_col=\"TS\",  # timestamp column\n",
    "    refresh_freq=\"1d\",  # refresh frequency\n",
    "    desc=\"Airport weather features refreshed every day.\",\n",
    ").attach_feature_desc(\n",
    "    {\n",
    "        \"RAIN_SUM_30M\": \"The sum of rain fall over past 30 minutes for one zipcode.\",\n",
    "        \"RAIN_SUM_60M\": \"The sum of rain fall over past 1 hour for one zipcode.\",\n",
    "    }\n",
    ")\n",
    "\n",
    "airport_weather_fv = fs.register_feature_view(airport_weather_fv, version=\"1\", overwrite=True)\n",
    "\n",
    "# Show our newly created Feature View and display as Pandas DataFrame\n",
    "fs.list_feature_views().to_pandas()"
   ]
  },
  {
   "cell_type": "code",
   "execution_count": null,
   "id": "3321be73-c1a7-4b6f-9926-3bbc3b0b2a1f",
   "metadata": {
    "collapsed": false,
    "language": "python",
    "name": "feature_views_2",
    "resultHeight": 182,
    "codeCollapsed": false
   },
   "outputs": [],
   "source": "plane = session.sql(\n    \"\"\"\n    SELECT\n        plane_model,\n        seating_capacity,\n        max_range_km\n    FROM\n        plane_model_attributes\n    \"\"\"\n)\n\nplane_fv = FeatureView(\n    name=\"f_plane\",  # name of feature view\n    entities=[plane_entity],  # entities\n    feature_df=plane,  # definition query\n    refresh_freq=None,  # refresh frequency\n    desc=\"Plane features never refresh.\",\n).attach_feature_desc(\n    {\n        \"SEATING_CAPACITY\": \"The seating capacity of a plane.\",\n        \"MAX_RANGE_KM\": \"The maximum range of a full tank.\",\n    }\n)\n\nplane_fv = fs.register_feature_view(plane_fv, version=\"1\", overwrite=True)\n\n# Show our newly created Feature View and display as Pandas DataFrame\nfs.list_feature_views().to_pandas()"
  },
  {
   "cell_type": "markdown",
   "id": "24bff365-4bbf-4d0c-b239-499eadde49e2",
   "metadata": {
    "collapsed": false,
    "name": "create_dataset_md",
    "resultHeight": 246
   },
   "source": [
    "## Generating Datasets for Training\n",
    "\n",
    "We are now ready to generate our training set. We'll define a spine DataFrame to form the backbone of our generated\n",
    "dataset and pass it into ``FeatureStore.generate_dataset()`` along with our Feature Views.\n",
    "\n",
    "> NOTE: The spine serves as a request template and specifies the entities, labels and timestamps (when applicable). The\n",
    "  feature store then attaches feature values along the spine using an AS-OF join to efficiently combine and serve\n",
    "  the relevant, point-in-time correct feature data."
   ]
  },
  {
   "cell_type": "code",
   "execution_count": null,
   "id": "5b5332e5-30dc-4e78-bc76-de97642d96d9",
   "metadata": {
    "collapsed": false,
    "language": "python",
    "name": "generate_dataset",
    "resultHeight": 252,
    "codeCollapsed": false
   },
   "outputs": [],
   "source": "# Note that we use SCHEDULED_DEPARTURE_UTC as the timestamp in our spine, which will be matched to the timestamp column(s) in\n# the FeatureView. In this case, airport_weather_fv uses DATETIME_UTC as its timestamp column, meaning each record in the\n# spine will only be joined to weather prior to the current record.\n\nquery = \"\"\"\n    SELECT\n        scheduled_departure_utc,\n        airport_zip_code, -- join key for weather entity\n        departure_code,\n        destination_code,\n        tickets_sold,\n        plane_model, \n        tail_number -- join key for plane entity\n    FROM us_flight_schedules\n\"\"\"\n\nspine_df = session.sql(query)\n\nds = fs.generate_dataset(\n    name=\"trip_duration_ds\",\n    spine_df=spine_df,\n    features=[plane_fv, airport_weather_fv],\n    spine_timestamp_col=\"SCHEDULED_DEPARTURE_UTC\",\n    spine_label_cols=[\"TICKETS_SOLD\"],\n    include_feature_view_timestamp_col=False,   # optional\n    version=\"V_001\"\n)\n\n# Show preview of the Dataset contents by loading into a Pandas DataFrame\nds.read.to_pandas().head(5)"
  },
  {
   "cell_type": "code",
   "id": "3eca1a1b-aec7-40a5-908a-2e1963bd9a16",
   "metadata": {
    "language": "python",
    "name": "cell6"
   },
   "outputs": [],
   "source": "session.sql(\"SHOW DATASETS\").to_pandas()",
   "execution_count": null
  },
  {
   "cell_type": "markdown",
   "id": "d519bffa-79ea-4c4c-a6f9-9b261d3cbd2a",
   "metadata": {
    "collapsed": false,
    "name": "conclusion_md",
    "resultHeight": 193
   },
   "source": [
    "# Conclusion\n",
    "\n",
    "You can now use this dataset in your downstream modeling workloads. Models trained using Snowpark ML Modeling\n",
    "and Snowflake Model Registry will automatically benefit from model lineage and other MLOps features.\n",
    "You can find full examples of using the Snowflake Feature Store on GitHub at\n",
    "[`snowflake-ml-python`](https://github.com/snowflakedb/snowflake-ml-python/tree/main/snowflake/ml/feature_store/notebooks/customer_demo>)"
   ]
  }
 ]
}